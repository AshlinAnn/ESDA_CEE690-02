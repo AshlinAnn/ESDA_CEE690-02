{
 "cells": [
  {
   "cell_type": "markdown",
   "metadata": {
    "slideshow": {
     "slide_type": "slide"
    }
   },
   "source": [
    "# CEE 690-02\n",
    "\n",
    "# Environmental Spatial Data Analysis\n",
    "\n",
    "# Lecture 9"
   ]
  },
  {
   "cell_type": "markdown",
   "metadata": {
    "slideshow": {
     "slide_type": "slide"
    }
   },
   "source": [
    "# Logistics\n",
    "\n",
    "* Homework pressure is starting to be lifted as of today...\n",
    "* HW#5 will be posted this Thursday evening\n",
    "* HW#5 is not due until Thursday of next week\n",
    "* I have updated the syllabus\n",
    "* Initial proposal is due on 10/10 via email to Nate\n",
    "* **Important**: All final project discussions/questions should go to me. Reza's role is primarily to help with homeworks and the general course material."
   ]
  },
  {
   "cell_type": "markdown",
   "metadata": {
    "slideshow": {
     "slide_type": "slide"
    }
   },
   "source": [
    "# Map projections!\n",
    "\n",
    "# (I hope you are excited!)"
   ]
  },
  {
   "cell_type": "markdown",
   "metadata": {
    "slideshow": {
     "slide_type": "slide"
    }
   },
   "source": [
    "# Let's start off with some motivation"
   ]
  },
  {
   "cell_type": "markdown",
   "metadata": {
    "slideshow": {
     "slide_type": "slide"
    }
   },
   "source": [
    "# Data to use: GMTED2010\n",
    "\n",
    "Griddded global elevation dataset at a 30 arcsec spatial resolution. There are better and finer resolution elevation data out there but we will use GMTED2010 for now as an example. I have upscaled the dataset to 0.1 arcdegree spatial resolution for this presentation.\n",
    "\n",
    "<img src=\"https://prd-wret.s3-us-west-2.amazonaws.com/assets/palladium/production/s3fs-public/styles/side_image/public/thumbnails/image/gmted2010.PNG\" width=\"400\">\n"
   ]
  },
  {
   "cell_type": "markdown",
   "metadata": {
    "slideshow": {
     "slide_type": "slide"
    }
   },
   "source": [
    "Let's plot the data on the lat/lon grid"
   ]
  },
  {
   "cell_type": "code",
   "execution_count": null,
   "metadata": {},
   "outputs": [],
   "source": [
    "import rasterio\n",
    "import numpy as np\n",
    "file = '/data/GMTED2010/mn450.tif'\n",
    "fp = rasterio.open(file,'r')\n",
    "dem = fp.read(1)\n",
    "#Set no data to sea level\n",
    "dem[dem == fp.nodata] = 0.0"
   ]
  },
  {
   "cell_type": "code",
   "execution_count": null,
   "metadata": {},
   "outputs": [],
   "source": [
    "#Let's plot the data\n",
    "%matplotlib inline\n",
    "import matplotlib.pyplot as plt\n",
    "plt.figure(figsize=(14,6))\n",
    "plt.imshow(dem,cmap=plt.get_cmap('terrain'))\n",
    "plt.xticks([])\n",
    "plt.yticks([])\n",
    "cb = plt.colorbar(orientation='horizontal',shrink=0.6,pad=0.03)\n",
    "cb.ax.tick_params(labelsize=20)\n",
    "plt.title('Elevation (m)',fontsize=25)\n",
    "plt.show()"
   ]
  },
  {
   "cell_type": "markdown",
   "metadata": {},
   "source": [
    "Pretty map but nothing new..."
   ]
  },
  {
   "cell_type": "markdown",
   "metadata": {
    "slideshow": {
     "slide_type": "slide"
    }
   },
   "source": [
    "Let's now introduce cartopy"
   ]
  },
  {
   "cell_type": "code",
   "execution_count": null,
   "metadata": {},
   "outputs": [],
   "source": [
    "import cartopy\n",
    "img_extent = (-180,180,-90,90)\n",
    "fig = plt.figure(figsize=(14,6))\n",
    "ax = plt.axes(projection=cartopy.crs.PlateCarree())\n",
    "plt.imshow(dem,transform=cartopy.crs.PlateCarree(),cmap=plt.get_cmap('terrain'),extent=(img_extent))\n",
    "plt.xticks([])\n",
    "plt.yticks([])\n",
    "cb = plt.colorbar(ax=ax,orientation='horizontal',shrink=0.6,pad=0.03)\n",
    "cb.ax.tick_params(labelsize=20)\n",
    "plt.title('Elevation (m)',fontsize=25)\n",
    "plt.show()"
   ]
  },
  {
   "cell_type": "markdown",
   "metadata": {},
   "source": [
    "That is the exact same plot... Are we making any progress?"
   ]
  },
  {
   "cell_type": "markdown",
   "metadata": {
    "slideshow": {
     "slide_type": "slide"
    }
   },
   "source": [
    "More than it might seem at first. Hello map projections!"
   ]
  },
  {
   "cell_type": "code",
   "execution_count": null,
   "metadata": {},
   "outputs": [],
   "source": [
    "%%HTML\n",
    "<iframe width=\"939\" height=\"528\" src=\"https://scitools.org.uk/cartopy/docs/latest/crs/projections.html\" frameborder=\"0\" allow=\"accelerometer;  autoplay; encrypted-media; gyroscope; picture-in-picture\" allowfullscreen></iframe> "
   ]
  },
  {
   "cell_type": "markdown",
   "metadata": {
    "slideshow": {
     "slide_type": "slide"
    }
   },
   "source": [
    "Let's try out the Robinson projection"
   ]
  },
  {
   "cell_type": "code",
   "execution_count": null,
   "metadata": {},
   "outputs": [],
   "source": [
    "img_extent = (-180,180,-90,90)\n",
    "fig = plt.figure(figsize=(14,6))\n",
    "#Target projection\n",
    "ax = plt.axes(projection=cartopy.crs.Robinson())\n",
    "#Source projection\n",
    "plt.imshow(dem,transform=cartopy.crs.PlateCarree(),cmap=plt.get_cmap('terrain'),extent=(img_extent))\n",
    "plt.xticks([])\n",
    "plt.yticks([])\n",
    "cb = plt.colorbar(ax=ax,orientation='horizontal',shrink=0.6,pad=0.03)\n",
    "cb.ax.tick_params(labelsize=20)\n",
    "plt.title('Elevation (m)',fontsize=25)\n",
    "plt.show()"
   ]
  },
  {
   "cell_type": "markdown",
   "metadata": {},
   "source": [
    "Progress!"
   ]
  },
  {
   "cell_type": "markdown",
   "metadata": {
    "slideshow": {
     "slide_type": "slide"
    }
   },
   "source": [
    "Things get fun quickly."
   ]
  },
  {
   "cell_type": "code",
   "execution_count": null,
   "metadata": {},
   "outputs": [],
   "source": [
    "img_extent = (-180,180,-90,90)\n",
    "fig = plt.figure(figsize=(14,6))\n",
    "#Target projection\n",
    "ax = plt.axes(projection=cartopy.crs.Robinson())\n",
    "#Let's mask out sea level elevation\n",
    "dem = np.ma.masked_array(dem,dem==0)\n",
    "#Source projection\n",
    "plt.imshow(dem,transform=cartopy.crs.PlateCarree(),cmap=plt.get_cmap('terrain'),extent=(img_extent))\n",
    "plt.xticks([])\n",
    "plt.yticks([])\n",
    "#Let's add country borders, coastlines, major riverrs, and lakes\n",
    "ax.add_feature(cartopy.feature.COASTLINE)\n",
    "ax.add_feature(cartopy.feature.BORDERS, linestyle=':')\n",
    "ax.add_feature(cartopy.feature.LAKES, alpha=0.5)\n",
    "ax.add_feature(cartopy.feature.RIVERS)\n",
    "#Let's make the ocean's gray\n",
    "ax.add_feature(cartopy.feature.OCEAN,color='gray',alpha=0.2)\n",
    "#Let's add a colorbar\n",
    "cb = plt.colorbar(ax=ax,orientation='horizontal',shrink=0.6,pad=0.03)\n",
    "cb.ax.tick_params(labelsize=20)\n",
    "plt.title('Elevation (m)',fontsize=25)\n",
    "plt.show()"
   ]
  },
  {
   "cell_type": "markdown",
   "metadata": {
    "slideshow": {
     "slide_type": "slide"
    }
   },
   "source": [
    "How about a globe?"
   ]
  },
  {
   "cell_type": "code",
   "execution_count": null,
   "metadata": {},
   "outputs": [],
   "source": [
    "img_extent = (-180,180,-90,90)\n",
    "fig = plt.figure(figsize=(10,10))\n",
    "#Target projection\n",
    "ax = plt.axes(projection=cartopy.crs.Orthographic())\n",
    "#Source projection\n",
    "im = plt.imshow(dem,transform=cartopy.crs.PlateCarree(),cmap=plt.get_cmap('terrain'),extent=(img_extent))\n",
    "plt.xticks([])\n",
    "plt.yticks([])\n",
    "#Let's add country borders, coastlines, major riverrs, and lakes\n",
    "ax.add_feature(cartopy.feature.COASTLINE)\n",
    "ax.add_feature(cartopy.feature.BORDERS, linestyle=':')\n",
    "ax.add_feature(cartopy.feature.LAKES, alpha=0.5)\n",
    "ax.add_feature(cartopy.feature.RIVERS)\n",
    "#Let's make the ocean's gray\n",
    "ax.add_feature(cartopy.feature.OCEAN,color='gray',alpha=0.2)\n",
    "cb = plt.colorbar(ax=ax,orientation='horizontal',shrink=0.6,pad=0.03)\n",
    "cb.ax.tick_params(labelsize=20)\n",
    "plt.title('Elevation (m)',fontsize=25)\n",
    "plt.show()"
   ]
  },
  {
   "cell_type": "markdown",
   "metadata": {
    "slideshow": {
     "slide_type": "slide"
    }
   },
   "source": [
    "How about a rotating globe? "
   ]
  },
  {
   "cell_type": "code",
   "execution_count": null,
   "metadata": {},
   "outputs": [],
   "source": [
    "from matplotlib import animation, rc\n",
    "from IPython.display import HTML\n",
    "\n",
    "img_extent = (-180,180,-90,90)\n",
    "fig = plt.figure(figsize=(10,10))\n",
    "vmin = np.min(dem)\n",
    "vmax = np.max(dem)\n",
    "nframes = 10\n",
    "\n",
    "# animation function. This is called sequentially\n",
    "def animate(i):\n",
    "    #Clear figure\n",
    "    plt.clf()\n",
    "    #Target projection\n",
    "    ax = plt.axes(projection=cartopy.crs.Orthographic(central_longitude=np.linspace(-180,180,nframes)[i]))\n",
    "    #Source projection\n",
    "    im = plt.imshow(dem,vmin=vmin,vmax=vmax,\n",
    "                    transform=cartopy.crs.PlateCarree(),\n",
    "                    cmap=plt.get_cmap('terrain'),extent=(img_extent))\n",
    "    plt.xticks([])\n",
    "    plt.yticks([])\n",
    "    #Let's add country borders, coastlines, major riverrs, and lakes\n",
    "    ax.add_feature(cartopy.feature.COASTLINE)\n",
    "    ax.add_feature(cartopy.feature.BORDERS, linestyle=':')\n",
    "    ax.add_feature(cartopy.feature.LAKES, alpha=0.5)\n",
    "    ax.add_feature(cartopy.feature.RIVERS)\n",
    "    #Add the colorbar\n",
    "    cb = plt.colorbar(ax=ax,orientation='horizontal',shrink=0.6,pad=0.03)\n",
    "    cb.ax.tick_params(labelsize=20)\n",
    "    cb.ax.set_xlabel('Elevation (m)',fontsize=25)\n",
    "    return (im,)\n",
    "\n",
    "# call the animator. blit=True means only re-draw the parts that have changed.\n",
    "anim = animation.FuncAnimation(fig, animate,frames=nframes, interval=500, blit=True)\n",
    "\n",
    "HTML(anim.to_html5_video())"
   ]
  },
  {
   "cell_type": "markdown",
   "metadata": {
    "slideshow": {
     "slide_type": "slide"
    }
   },
   "source": [
    "Explore Cartopy, it is amazing. But for now, we need to learn about what is happening under the hood. We need to learn about map projections."
   ]
  },
  {
   "cell_type": "markdown",
   "metadata": {
    "slideshow": {
     "slide_type": "slide"
    }
   },
   "source": [
    "# Basic Geodesy\n",
    "\n",
    "Source: Robinson et al., 1995"
   ]
  },
  {
   "cell_type": "markdown",
   "metadata": {
    "slideshow": {
     "slide_type": "slide"
    }
   },
   "source": [
    "# Spherical vs Ellipsoid Earth I\n",
    "\n",
    "\n",
    "* The Earth is an oblate ellipsoid\n",
    "* Earth's centrifugal force leads to slight bulging\n",
    "* The polar flattening is given by $f = (a-b)/a$\n",
    "* Modern satellites show that $f \\approx 1/298$\n",
    "\n",
    "<img src=\"https://upload.wikimedia.org/wikipedia/commons/thumb/3/3e/WGS84_mean_Earth_radius.svg/1280px-WGS84_mean_Earth_radius.svg.png\" width=\"400\">\n",
    "\n",
    "Where $b$ is the Polar axis and $a$ is the Equatorial axis."
   ]
  },
  {
   "cell_type": "markdown",
   "metadata": {
    "slideshow": {
     "slide_type": "slide"
    }
   },
   "source": [
    "# Historical Earth Ellipsoids"
   ]
  },
  {
   "cell_type": "code",
   "execution_count": null,
   "metadata": {},
   "outputs": [],
   "source": [
    "%%html\n",
    "<iframe width=\"939\" height=\"528\" src=\"https://en.wikipedia.org/wiki/Earth_ellipsoid#Historical_Earth_ellipsoids\" frameborder=\"0\" allow=\"accelerometer;  autoplay; encrypted-media; gyroscope; picture-in-picture\" allowfullscreen></iframe> "
   ]
  },
  {
   "cell_type": "markdown",
   "metadata": {},
   "source": [
    "The WGS-84 ellipsoid remains the go-to ellipsoid to this day. "
   ]
  },
  {
   "cell_type": "markdown",
   "metadata": {
    "slideshow": {
     "slide_type": "slide"
    }
   },
   "source": [
    "# Geographic Coordinates \n",
    "\n",
    "\n",
    "\n",
    "\n",
    "<img src=\"https://upload.wikimedia.org/wikipedia/commons/8/83/Latitude_and_longitude_graticule_on_a_sphere.svg\" width=\"400\">\n",
    "\n",
    "Where $\\phi$ is latitude and $\\lambda$ is longitude"
   ]
  },
  {
   "cell_type": "markdown",
   "metadata": {
    "slideshow": {
     "slide_type": "slide"
    }
   },
   "source": [
    "# Parallels and Meridians\n",
    "\n",
    "<img src=\"Images/Snyder1987_Parallels_Meridians.png\" width=\"400\">"
   ]
  },
  {
   "cell_type": "markdown",
   "metadata": {
    "slideshow": {
     "slide_type": "slide"
    }
   },
   "source": [
    "# Graticule\n",
    "\n",
    "<img src=\"https://raw.githubusercontent.com/d3/d3-geo/master/img/graticule.png\" width=\"500\">\n",
    "\n",
    "Graticule - The imaginary network of parallels and meridians on the the earth (as is their projection onto a flat map)"
   ]
  },
  {
   "cell_type": "markdown",
   "metadata": {
    "slideshow": {
     "slide_type": "slide"
    }
   },
   "source": [
    "# Properties of the Graticule \n",
    "\n",
    "* Distance\n",
    "* Direction \n",
    "* Area"
   ]
  },
  {
   "cell_type": "markdown",
   "metadata": {
    "slideshow": {
     "slide_type": "slide"
    }
   },
   "source": [
    "# Graticule property: Distance\n",
    "\n",
    "* The shortest straight line over the surface between two points on a sphere is the arc on the surface directly above the true straight line between two points\n",
    "* The arc is formed by the intersection of the spherical surface with the plane passing through the two points and the center of the earth. \n",
    "* The circle established by the intersection of a plane with the surface divides the earth into hemispheres and is called a **great circle**\n",
    "\n",
    "<img src=\"https://upload.wikimedia.org/wikipedia/commons/thumb/c/cb/Illustration_of_great-circle_distance.svg/440px-Illustration_of_great-circle_distance.svg.png\" width=\"400\">"
   ]
  },
  {
   "cell_type": "markdown",
   "metadata": {
    "slideshow": {
     "slide_type": "slide"
    }
   },
   "source": [
    "# Detour: Great circle distance example\n",
    "\n",
    "As introduced in HW #2, the central angle, $\\Delta \\sigma$, between two different points on the Earth is given by:\n",
    "\n",
    "$\\Delta \\sigma  = \\arccos(\\sin\\phi_1\\sin\\phi_2 + \\cos\\phi_1\\cos\\phi_2\\cos(\\lambda_2 - \\lambda_1))$\n",
    "\n",
    "where $\\lambda_1$ and $\\lambda_2$ are the longitudes and $\\phi_1$ and $\\phi_2$ are the latitudes in radians of points 1 and 2.\n",
    "\n",
    "The distance between the two points in km can then be computed via the arc length by assuming that $R_e = 6371$ km:\n",
    "\n",
    "$d = R_e\\Delta \\sigma$"
   ]
  },
  {
   "cell_type": "code",
   "execution_count": null,
   "metadata": {},
   "outputs": [],
   "source": [
    "import numpy as np\n",
    "def compute_distance(lat1,lon1,lat2,lon2):\n",
    "    lat1 = 0.0174533*lat1\n",
    "    lon1 = 0.0174533*lon1\n",
    "    lat2 = 0.0174533*lat2\n",
    "    lon2 = 0.0174533*lon2\n",
    "    Re = 6371.0\n",
    "    p1 = np.sin(lat1)*np.sin(lat2)\n",
    "    p2 = np.cos(lat1)*np.cos(lat2)*np.cos(lon2-lon1)\n",
    "    dsigma = np.arccos(p1 + p2)\n",
    "    d = Re*dsigma\n",
    "    return d\n",
    "\n",
    "#Define geographic coordinates of Durham and Chicago\n",
    "durham = {'lat':35.9940,'lon':-78.8986}\n",
    "chicago = {'lat':41.8781,'lon':-87.6298}\n",
    "\n",
    "#Calculate distance\n",
    "d = compute_distance(durham['lat'],durham['lon'],chicago['lat'],chicago['lon'])\n",
    "print(d,'km')"
   ]
  },
  {
   "cell_type": "markdown",
   "metadata": {
    "slideshow": {
     "slide_type": "slide"
    }
   },
   "source": [
    "# Graticule property: Direction\n",
    "\n",
    "* North-south is defined as direction along a meridian\n",
    "* East-west is defined as direction along a parallel\n",
    "* The direction of a line on the earth is called azimuth\n",
    "* Only on the Equator or a meridian does direction remain constant "
   ]
  },
  {
   "cell_type": "markdown",
   "metadata": {
    "slideshow": {
     "slide_type": "slide"
    }
   },
   "source": [
    "# Graticule property: Area\n",
    "\n",
    "The surface area of quadrilaterals, areas bounded by pairs of parallels and meridians decreases as one moves from the equator to a pole. It can be computed via:\n",
    "\n",
    "$$A = R_e^2\\left|\\sin{\\phi_a}-\\sin{\\phi_b}\\right||\\lambda_c - \\lambda_d|$$\n",
    "\n",
    "Where $R_e$ is the radius of the spherical earth, $\\phi_a$ and $\\phi_b$ are the latitude of the two bounding parallels, and $\\Delta \\lambda$ is the difference between the longitudes of the two bounding meridians."
   ]
  },
  {
   "cell_type": "markdown",
   "metadata": {
    "slideshow": {
     "slide_type": "slide"
    }
   },
   "source": [
    "# Surface area calculation"
   ]
  },
  {
   "cell_type": "code",
   "execution_count": null,
   "metadata": {},
   "outputs": [],
   "source": [
    "#Lets' define the function to calculate the surface area of quadrilateral on the earth's surface\n",
    "def surface_area(Re,phi_a,phi_b,lambda_c,lambda_d):\n",
    "    #Convert to radians\n",
    "    phi_a = phi_a*np.pi/180.0\n",
    "    phi_b = phi_b*np.pi/180.0\n",
    "    lambda_c = lambda_c*np.pi/180.0\n",
    "    lambda_d = lambda_d*np.pi/180.0\n",
    "    #Calculate surface area\n",
    "    return Re**2*np.abs(np.sin(phi_a)-np.sin(phi_b))*np.abs(lambda_c - lambda_d)"
   ]
  },
  {
   "cell_type": "code",
   "execution_count": null,
   "metadata": {},
   "outputs": [],
   "source": [
    "#Let's calculate the total surface of the earth\n",
    "Re = 6371.0 #km\n",
    "phi_a = -90.0\n",
    "phi_b = 90.0\n",
    "lambda_c = -180\n",
    "lambda_d = 180\n",
    "area = surface_area(Re,phi_a,phi_b,lambda_c,lambda_d)\n",
    "print(area,'km2$')"
   ]
  },
  {
   "cell_type": "code",
   "execution_count": null,
   "metadata": {},
   "outputs": [],
   "source": [
    "#Let's calculate how the surface area changes from the south pole to the north pole\n",
    "Re = 6371.0 #km\n",
    "#First let's define the meridians\n",
    "lambda_c = -120.0\n",
    "lambda_d = -121.0\n",
    "#Let's intialize an array of latitudes with a 1 arcdegree resolution\n",
    "phis = np.linspace(-90,90,180.0)\n",
    "phi_a = phis[:-1]\n",
    "phi_b = phis[1:]\n",
    "#Let's compute the surface area for these cases\n",
    "area = surface_area(Re,phi_a,phi_b,lambda_c,lambda_d)\n",
    "#Make a plot\n",
    "plt.figure(figsize=(10,4))\n",
    "plt.plot((phi_a+phi_b)/2,area,lw=4)\n",
    "plt.xlabel('Latitude',fontsize=20)\n",
    "plt.ylabel(r'Area (km$^2$)',fontsize=20)\n",
    "plt.xticks(fontsize=20)\n",
    "plt.yticks(fontsize=20)\n",
    "plt.show()"
   ]
  },
  {
   "cell_type": "markdown",
   "metadata": {
    "slideshow": {
     "slide_type": "slide"
    }
   },
   "source": [
    "# Map Projections\n",
    "\n",
    "Sources: Robinson et al., 1995; Snyder, John P. 1987"
   ]
  },
  {
   "cell_type": "markdown",
   "metadata": {
    "slideshow": {
     "slide_type": "slide"
    }
   },
   "source": [
    "A map projection is a systematic representation of all or part of the surface of a round body, especially the Earth, on a plane.\n",
    "\n",
    "<img src=\"http://2012books.lardbucket.org/books/geographic-information-system-basics/section_06/8c5c63aacfa3743ed4962745a77d782c.jpg\" width=\"400\">"
   ]
  },
  {
   "cell_type": "markdown",
   "metadata": {
    "slideshow": {
     "slide_type": "slide"
    }
   },
   "source": [
    "## Why do we need map projections?\n",
    "\n",
    "Having a very high resolution globe in your backyard/living room is not very practical.\n",
    "\n",
    "\n",
    "<img src=\"https://upload.wikimedia.org/wikipedia/commons/e/e2/Globe_at_the_Vancouver_Convention_Centre.JPG\" width=\"400\">\n",
    "\n",
    "Plus, its much easier to handle a plane (i.e., 2d array) than the surface of a sphere (or worse an ellipsoid). "
   ]
  },
  {
   "cell_type": "markdown",
   "metadata": {
    "slideshow": {
     "slide_type": "slide"
    }
   },
   "source": [
    "# You can't have your cake and eat it too\n",
    "\n",
    "* Projecting from the globe to a plane cannot be done without distortion.\n",
    "\n",
    "* There are an infinite number of map projections. \n",
    "\n",
    "* Different map projections have different strengths and weakneeses.\n",
    "\n",
    "* There is no **one** map projection."
   ]
  },
  {
   "cell_type": "markdown",
   "metadata": {
    "slideshow": {
     "slide_type": "slide"
    }
   },
   "source": [
    "# Common developable surfaces\n",
    "\n",
    "<img src=\"Images/Snyder1987_DevelopableSurfaces.png\" width=\"400\">\n",
    "\n",
    "* There are other developable surfaces such as the pseudo-cylindrical one.\n",
    "* The type of developable surface, the orientation of the surface with respect to the Earth's axis, and how the surface intersects the globe leads to many map projections.\n"
   ]
  },
  {
   "cell_type": "markdown",
   "metadata": {
    "slideshow": {
     "slide_type": "slide"
    }
   },
   "source": [
    "# Tissot's indicatrix deformation map\n",
    "\n",
    "This map enables a way to visually illustrate the angular and areal distortions in a map projection.\n",
    "\n",
    "### Unprojected globe\n",
    "\n",
    "<img src=\"https://map-projections.net/img/figs/orthographic-tissot-big.jpg\" width=\"600\">\n",
    "\n",
    "### Mercator projection\n",
    "\n",
    "<img src=\"https://map-projections.net/img/figs/mercator-tissot-big.jpg\" width=\"600\">\n",
    "\n",
    "Source: map-projections.net\n"
   ]
  },
  {
   "cell_type": "markdown",
   "metadata": {
    "slideshow": {
     "slide_type": "slide"
    }
   },
   "source": [
    "# Characteristics of map projections\n",
    "\n",
    "The characteristics of a given map projections is what leads to choosing one map projection over another."
   ]
  },
  {
   "cell_type": "markdown",
   "metadata": {
    "slideshow": {
     "slide_type": "slide"
    }
   },
   "source": [
    "# Map projection characteristic: Area\n",
    "\n",
    "An ***equal area projection*** is a map projection that shows regions that are the same size on the Earth as the same size on the map but may distort the shape, angle, and/or scale.\n",
    "\n",
    "### Example: Cylindrical equal area projection\n",
    "\n",
    "* #### Global map \n",
    "\n",
    "<img src=\"https://upload.wikimedia.org/wikipedia/commons/7/76/Cylindrical_equal-area_projection_SW.jpg\" width=\"700\">\n",
    "\n",
    "* #### Tissot's Indicatrix of deformation\n",
    "\n",
    "<img src=\"https://upload.wikimedia.org/wikipedia/commons/thumb/c/cb/Tissot_indicatrix_world_map_Lambert_cyl_equal-area_proj.svg/2880px-Tissot_indicatrix_world_map_Lambert_cyl_equal-area_proj.svg.png\" width=\"700\">\n"
   ]
  },
  {
   "cell_type": "markdown",
   "metadata": {
    "slideshow": {
     "slide_type": "slide"
    }
   },
   "source": [
    "# Map projection characteristic: Shape\n",
    "\n",
    "A ***conformal projection*** aims to ensure that the relative local angles around every point on the map are shown correctly. Although a large area must still be shown distorted in shape, its small features are shaped generally correct.\n",
    "\n",
    "### Example: Mercator projection\n",
    "\n",
    "* #### Global map \n",
    "\n",
    "<img src=\"https://upload.wikimedia.org/wikipedia/commons/thumb/7/73/Mercator_projection_Square.JPG/700px-Mercator_projection_Square.JPG\" width=\"700\">\n",
    "\n",
    "* #### Tissot's Indicatrix of deformation\n",
    "\n",
    "<img src=\"https://upload.wikimedia.org/wikipedia/commons/thumb/0/02/Mercator_with_Tissot%27s_Indicatrices_of_Distortion.svg/700px-Mercator_with_Tissot%27s_Indicatrices_of_Distortion.svg.png\" width=\"700\">"
   ]
  },
  {
   "cell_type": "markdown",
   "metadata": {
    "slideshow": {
     "slide_type": "slide"
    }
   },
   "source": [
    "# Map projection characteristic: Scale\n",
    "\n",
    "No map projections shows scale correctly throughtout the map. However, ***an equidistant projection*** shows true scale between one or two points and every other point on the map, or along every meridian. \n",
    "\n",
    "### Example: Equidistant conic projection\n",
    "\n",
    "* #### Global map \n",
    "\n",
    "<img src=\"https://upload.wikimedia.org/wikipedia/commons/thumb/d/d8/Equidistant_conic_projection_SW.JPG/500px-Equidistant_conic_projection_SW.JPG\" width=\"700\">\n",
    "\n",
    "* #### Tissot's Indicatrix of deformation\n",
    "\n",
    "<img src=\"https://upload.wikimedia.org/wikipedia/commons/thumb/4/43/Equidistant_Conic_with_Tissot%27s_Indicatrices_of_Distortion.svg/2560px-Equidistant_Conic_with_Tissot%27s_Indicatrices_of_Distortion.svg.png\" width=\"700\">"
   ]
  },
  {
   "cell_type": "markdown",
   "metadata": {
    "slideshow": {
     "slide_type": "slide"
    }
   },
   "source": [
    "# Map projection characteristic: Direction \n",
    "\n",
    "An ***azimuthal projection*** ensures that directions or azimuths of all points on the map are shown correctly with respect to the center.\n",
    "\n",
    "### Example: Azimuthal equidistant projection\n",
    "\n",
    "* #### Global map \n",
    "\n",
    "<img src=\"https://upload.wikimedia.org/wikipedia/commons/thumb/e/ec/Azimuthal_equidistant_projection_SW.jpg/1280px-Azimuthal_equidistant_projection_SW.jpg\" width=\"700\">\n",
    "\n",
    "* #### Tissot's Indicatrix of deformation\n",
    "\n",
    "<img src=\"https://upload.wikimedia.org/wikipedia/commons/thumb/7/7c/Azimuthal_Equidistant_with_Tissot%27s_Indicatrices_of_Distortion.svg/600px-Azimuthal_Equidistant_with_Tissot%27s_Indicatrices_of_Distortion.svg.png\" width=\"700\">"
   ]
  },
  {
   "cell_type": "markdown",
   "metadata": {
    "slideshow": {
     "slide_type": "slide"
    }
   },
   "source": [
    "# So why don't we just find a projection that meets all these criteria?\n",
    "\n",
    "It is possible to find projections that combine multiple characteristics. However, a map projection can never be both equal-area and conformal at the same time. You can find a \"sweet-spot\" but both conditions will never be perfectly met at the same time. "
   ]
  },
  {
   "cell_type": "markdown",
   "metadata": {
    "slideshow": {
     "slide_type": "slide"
    }
   },
   "source": [
    "In the end, a map projection is defined by a suite of functions that map the latitude and longitude values in geographic coordinates to the intended projection. Consequently there is also an inverse function to return to geographic coordinates. We can then go to another projection from there. \n",
    "\n",
    "<img src=\"Images/Clarke1995_Mapping.png\" width=\"400\">\n",
    "\n",
    "Important: When mapping raster data (i.e., gridded spatial data) it is generally the case that we hit a \"one to many\" and \"many to one\" problem that makes it impossible to go error free back and forth between map projections. "
   ]
  },
  {
   "cell_type": "markdown",
   "metadata": {
    "slideshow": {
     "slide_type": "slide"
    }
   },
   "source": [
    "# Under the hood: Examples of the forward and backward transformations"
   ]
  },
  {
   "cell_type": "markdown",
   "metadata": {
    "slideshow": {
     "slide_type": "slide"
    }
   },
   "source": [
    "# Mercator projection (Sphere assumption)\n",
    "\n",
    "<img src=\"https://upload.wikimedia.org/wikipedia/commons/thumb/7/73/Mercator_projection_Square.JPG/700px-Mercator_projection_Square.JPG\" width=\"700\">\n",
    "\n",
    "### Forward transformation\n",
    "\n",
    "$$x = R_e(\\lambda - \\lambda_0)$$\n",
    "$$y = \\left(R_e/2\\right)\\ln \\left(\\frac{1 + \\sin \\phi}{1 - \\sin \\phi}\\right) $$\n",
    "\n",
    "### Backward transformation\n",
    "\n",
    "$$\\phi = \\pi/2 - 2 \\arctan(e^{-y/R_e})$$\n",
    "$$\\lambda = x/R_e + \\lambda_0$$\n",
    "\n",
    "Where $R_e$ is the radius of Earth, $\\phi$ is latitude, $\\lambda$ is longitude, $x$ is the horizontal coordinate in the map projection, $y$ is the vertical coordinate in the map projection, and $\\lambda_0$ is the central meridian (i.e., longitude) of the projection.\n",
    "\n",
    "**Important**: These functions are only applicable when assuming that the Earth is a perfect sphere. Other more complicated transformations are necessary for the ellipsoid. "
   ]
  },
  {
   "cell_type": "markdown",
   "metadata": {
    "slideshow": {
     "slide_type": "slide"
    }
   },
   "source": [
    "# Cylindrical equal area projection (Sphere assumption)\n",
    "\n",
    "<img src=\"https://upload.wikimedia.org/wikipedia/commons/7/76/Cylindrical_equal-area_projection_SW.jpg\" width=\"700\">\n",
    "\n",
    "### Forward transformation\n",
    "\n",
    "$$x = R_e(\\lambda - \\lambda_0)\\cos \\phi_s$$\n",
    "$$y = R_e\\frac{\\sin\\phi}{\\cos\\phi_s}$$\n",
    "\n",
    "### Backward transformation\n",
    "\n",
    "$$\\phi = \\arcsin\\left[\\frac{y \\cos\\phi_s}{R_e}\\right]$$\n",
    "$$\\lambda = \\frac{x}{R_e \\cos \\phi_s} + \\lambda_0$$\n",
    "\n",
    "Where $R_e$ is the radius of Earth, $\\phi$ is latitude, $\\lambda$ is longitude, $x$ is the horizontal coordinate in the map projection, $y$ is the vertical coordinate in the map projection, $\\lambda_0$ is the central meridian (i.e., longitude) of the projection, and $\\phi_s$ is the standard parallel."
   ]
  },
  {
   "cell_type": "markdown",
   "metadata": {
    "slideshow": {
     "slide_type": "slide"
    }
   },
   "source": [
    "# Albers equal-area conic projection (Sphere assumption)\n",
    "\n",
    "<img src=\"https://upload.wikimedia.org/wikipedia/commons/1/1f/Albers_projection_SW.jpg\" width=\"700\">\n",
    "\n",
    "### Forward transformation\n",
    "\n",
    "$$n = (\\sin \\phi_1 + \\sin \\phi_2)/2$$\n",
    "$$C = \\cos^2 \\phi_1 + 2n \\sin\\phi_1$$\n",
    "$$\\rho = \\frac{R_e}{n}\\sqrt{C - 2n \\sin \\phi}$$\n",
    "$$\\rho_0 = \\frac{R_e}{n}\\sqrt{C - 2n \\sin \\phi_0}$$\n",
    "$$\\theta = n(\\lambda - \\lambda_0)$$\n",
    "$$x = \\rho \\sin \\theta$$\n",
    "$$y = \\rho_0-\\rho \\cos \\theta$$\n",
    "\n",
    "### Backward transformation\n",
    "\n",
    "$$\\rho = \\sqrt{x^2 + (\\rho_0 - y)^2}$$\n",
    "$$\\theta = \\arctan \\frac{x}{\\rho_0 -y}$$\n",
    "$$\\phi = \\arcsin \\frac{C - \\left(\\frac{\\rho n}{R_e}\\right)^2}{2n}$$\n",
    "$$\\theta = \\arctan \\frac{x}{\\rho_0 - y}$$\n",
    "\n",
    "Where $R_e$ is the radius of Earth, $\\phi$ is latitude, $\\lambda$ is longitude, $x$ is the horizontal coordinate in the map projection, $y$ is the vertical coordinate in the map projection, $\\lambda_0$ is the central meridian (i.e., longitude) of the projection, and $\\phi_1$ and $\\phi_2$ are the standard parallels."
   ]
  },
  {
   "cell_type": "markdown",
   "metadata": {
    "slideshow": {
     "slide_type": "slide"
    }
   },
   "source": [
    "Fortunately for us, there is a lot of software out there that reprojects for us. \n",
    "\n",
    "* Cartopy allows us to just reproject on the fly while making a projection\n",
    "* GDAL is a large library that allows us to reproject, regrid, cut... (we will cover it on Thursday)\n",
    "* QGIS\n",
    "* And yes, ArcGIS\n",
    "* ..."
   ]
  },
  {
   "cell_type": "markdown",
   "metadata": {
    "slideshow": {
     "slide_type": "slide"
    }
   },
   "source": [
    "# Let's go back to Cartopy's projections"
   ]
  },
  {
   "cell_type": "code",
   "execution_count": null,
   "metadata": {},
   "outputs": [],
   "source": [
    "%%HTML\n",
    "<iframe width=\"939\" height=\"528\" src=\"https://scitools.org.uk/cartopy/docs/latest/crs/projections.html\" frameborder=\"0\" allow=\"accelerometer;  autoplay; encrypted-media; gyroscope; picture-in-picture\" allowfullscreen></iframe>"
   ]
  },
  {
   "cell_type": "markdown",
   "metadata": {
    "slideshow": {
     "slide_type": "slide"
    }
   },
   "source": [
    "# Example: Robinson's projection"
   ]
  },
  {
   "cell_type": "code",
   "execution_count": null,
   "metadata": {},
   "outputs": [],
   "source": [
    "img_extent = (-180,180,-90,90)\n",
    "fig = plt.figure(figsize=(14,6))\n",
    "#Define a new target projection\n",
    "central_longitude = -180\n",
    "#Target projection\n",
    "ax = plt.axes(projection=cartopy.crs.Robinson(central_longitude=-180))\n",
    "#Source projection\n",
    "plt.imshow(dem,transform=cartopy.crs.PlateCarree(),cmap=plt.get_cmap('terrain'),extent=(img_extent))\n",
    "plt.xticks([])\n",
    "plt.yticks([])\n",
    "cb = plt.colorbar(ax=ax,orientation='horizontal',shrink=0.6,pad=0.03)\n",
    "cb.ax.tick_params(labelsize=20)\n",
    "plt.title('Elevation (m)',fontsize=25)\n",
    "plt.show()"
   ]
  },
  {
   "cell_type": "markdown",
   "metadata": {
    "slideshow": {
     "slide_type": "slide"
    }
   },
   "source": [
    "# Map projections are fun! (Really, they actually are...)\n",
    "\n",
    "There is **a lot** more that you can learn about projections. I put the pdf of \"Map Projections - A Working Manual\" in the \"Other\" directory in the GitHub repository. Feel free to read through it if you want to learn more."
   ]
  }
 ],
 "metadata": {
  "celltoolbar": "Slideshow",
  "kernelspec": {
   "display_name": "Python 3",
   "language": "python",
   "name": "python3"
  },
  "language_info": {
   "codemirror_mode": {
    "name": "ipython",
    "version": 3
   },
   "file_extension": ".py",
   "mimetype": "text/x-python",
   "name": "python",
   "nbconvert_exporter": "python",
   "pygments_lexer": "ipython3",
   "version": "3.7.3"
  },
  "rise": "scroll"
 },
 "nbformat": 4,
 "nbformat_minor": 2
}

{
 "cells": [
  {
   "cell_type": "markdown",
   "metadata": {},
   "source": [
    "# Assignment #8\n",
    "\n",
    "I have posted the pdf of the book \"Geostatistics for Environmental Scientists\" on Sakai. It provides a nice comprehensive introduction to the material."
   ]
  },
  {
   "cell_type": "markdown",
   "metadata": {},
   "source": [
    "# 1. Probabilistic basis of Geostatistics (25 pts)\n",
    "\n",
    "Each observation of an environmental variable in space $z(\\mathbf{x})$ can be interpreted as a single realization of a random variable $Z(\\mathbf{x})$. Where $\\mathbf{x}$ denotes the position in space of the observation. In a given finite region there can be an infinite number of locations $\\mathbf{x}$ and thus an infinite number of random variables $Z(\\mathbf{x})$. The set of all these random variables $Z(\\mathbf{x})$ constitutes a random process. For the remainder of this problem assume $Z_i = Z(\\mathbf{x})$ and $z_i = z(\\mathbf{x})$.\n",
    "\n",
    "A. Explain the difference between $z_i$ and $Z_i$.\n",
    "\n",
    "B. Based on the lectures, define $Z^*$ and $Z_0$. Explain the difference between the two. \n",
    "\n",
    "C. Describe the meaning of $\\text{Cov}(Z_i,Z_j)$, $\\text{Cov}(Z_i,Z_0)$, $\\text{Var}(Z_0)$.\n",
    "\n",
    "D. The Simple Kriging system is given by $\\Sigma \\mathbf{w} = \\mathbf{c}$. Explain each term in that equation.\n",
    "\n",
    "E. Once $\\mathbf{w}$ is computed, how can it be used to estimate $z^*$? \n",
    "\n",
    "F. What is second-order stationarity?\n",
    "\n",
    "F. Assuming second-order stationarity, if we are interested in the covariance between $Z_i$ and $Z_j$, why do we concern ourselves with the semivariogram?\n"
   ]
  },
  {
   "cell_type": "markdown",
   "metadata": {},
   "source": []
  },
  {
   "cell_type": "markdown",
   "metadata": {},
   "source": [
    "# 2. Computing the semivariogram (25 pts)\n",
    "\n",
    "Using data from the samples group in `/data/HW/HW8.nc`:\n",
    "\n",
    "A. Assemble the isotropic cloud semivariogram. Plot the results. Only consider distances up to 25000 m. \n",
    "\n",
    "B. Having computed the cloud semivariogram, assemble the sample semivariogram using a bin size of 500 m. Plot the results. Only consider distances up to 25000 m.\n",
    "\n",
    "C. Fit an exponential, spherical, and bounded linear semivariogram to the sample semivariogram. Compute the $R^2$ of each fit then plot the results. Remember to set bounds for the curve fitting, if not, it won't converge. Based on your results, which model semivariogram would you use for the region?"
   ]
  },
  {
   "cell_type": "code",
   "execution_count": 47,
   "metadata": {},
   "outputs": [],
   "source": []
  },
  {
   "cell_type": "markdown",
   "metadata": {},
   "source": [
    "# 3. Ordinary Kriging (50 pts)\n",
    "\n",
    "Using the data in the samples group in '/data/HW/HW8.nc', and assumming an exponential semivariogram with a sill ($c$) of 10.0 $\\%^2$, a nugget of 0, and a range ($a$) of 1500 m, do the following:\n",
    "\n",
    "A. Use ordinary kriging to reproduce the original map of sand (as found in the original_data group in `/data/HW/HW8.nc`).\n",
    "\n",
    "B. Plot the reproduced map and the original map. Compare the two via $R^2$.\n",
    "\n",
    "C. Compute the estimated mean squared error at each grid cell (kriging variance) and plot the map. Discuss the results. \n",
    "\n",
    "D. Although not an issue with this dataset, one of largest limitations of Kriging is that the observation covariance matrix can become too large. Another more practical approach is to only use the closest $n$ points to each point to which we interpolate. Setting $n = 10$, perform this \"localized\" ordinary kriging and compare the results to those from part B. \n",
    "\n",
    "E. Repeat part D. However, this time, set $n=1$. What simplistic deterministic spatial interpolation method does this mimic?"
   ]
  },
  {
   "cell_type": "code",
   "execution_count": 51,
   "metadata": {},
   "outputs": [],
   "source": []
  }
 ],
 "metadata": {
  "celltoolbar": "Slideshow",
  "kernelspec": {
   "display_name": "Python 3",
   "language": "python",
   "name": "python3"
  },
  "language_info": {
   "codemirror_mode": {
    "name": "ipython",
    "version": 3
   },
   "file_extension": ".py",
   "mimetype": "text/x-python",
   "name": "python",
   "nbconvert_exporter": "python",
   "pygments_lexer": "ipython3",
   "version": "3.7.3"
  }
 },
 "nbformat": 4,
 "nbformat_minor": 2
}

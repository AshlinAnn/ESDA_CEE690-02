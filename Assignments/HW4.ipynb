{
 "cells": [
  {
   "cell_type": "markdown",
   "metadata": {},
   "source": [
    "# Assignment #4"
   ]
  },
  {
   "cell_type": "markdown",
   "metadata": {},
   "source": [
    "# 1. Fitting probability distributions (30 points)"
   ]
  },
  {
   "cell_type": "markdown",
   "metadata": {},
   "source": [
    "The file `/data/IMERG/GPM_3IMERGDF_06/IMERG_07_2000-2018_rc.nc` provides daily estimates from IMERG of precipitation for each day of every July between 2000 and 2018. Extract the time series of data for Nairobi (Kenya), Beirut (Lebanon),  Shanghai (China), Sydney (Australia), Miami (United States), Bogota (Colombia), Johannesburg (South Africa), Toronto (Canada), and Buenos Aires (Argentina). After removing all days where the precipitation is 0, fit an exponential distribution for the data at each site. Using subplots, make a 3x3 figure where each subplot contains the histogram of each site's data (also zero precipitation removed) and the corresponding PDF of the fitted exponential distribution. To finalize, write a paragraph explaining how these plots can be interpreted with an emphasis on understanding the differences in intensity of daily rainfall between these cities in July.\n",
    "\n",
    "* **WE STRONGLY RECOMMEND** to not read in all the data in at once (your container might crash). Subset directly from storage instead (e.g., `fp['precipcal'][:,900,1800]`).\n",
    "* The daily precipitation is defined via the variable `precipcal` in the file."
   ]
  },
  {
   "cell_type": "code",
   "execution_count": null,
   "metadata": {},
   "outputs": [],
   "source": []
  },
  {
   "cell_type": "markdown",
   "metadata": {},
   "source": [
    "# 2. Descriptive statistics of IMERG (30 points)"
   ]
  },
  {
   "cell_type": "markdown",
   "metadata": {},
   "source": [
    "Using the same data as that used for problem 2 (daily precipitation for all Julys between 2000 and 2018), for the region defined below, produce maps of the 1st, 5th, 50th, 95th, and 99th percentiles, mean, mean absolute deviation, IQR, and skewness. Produce a single figure that contains 3x3 subplots where each subplot is a map of the respective statistic. Then write a paragraph to explain the computed results. \n",
    "\n",
    "* Region bounding box: Longitudes: -120 to -65; Latitudes: 20 to 45\n",
    "* **WE STRONGLY RECOMMEND** to not read in all the data in at once (your contained might crash). Subset directly from storage instead (e.g., `fp['precipcal'][:,1000:1200,400:700]`).\n",
    "* To understand the distribution of actual rainfall (i.e., only when it is raining), we would want to get rid of the 0s before performing the analysis; however, for this problem do the analysis with the 0s included for simplicity."
   ]
  },
  {
   "cell_type": "code",
   "execution_count": null,
   "metadata": {},
   "outputs": [],
   "source": []
  },
  {
   "cell_type": "markdown",
   "metadata": {},
   "source": [
    "# 3. Comparing IMERG to ERA-Interim (40 points)"
   ]
  },
  {
   "cell_type": "markdown",
   "metadata": {},
   "source": [
    "Use the [IMERG](https://pmm.nasa.gov/gpm/imerg-global-image) satellite precipitation product to evaluate [ERA-Interim's](https://www.ecmwf.int/en/forecasts/datasets/reanalysis-datasets/era-interim) simulated precipitation at a monthly time step between January, 2001 and December, 2014. The evaluation should only be performed at latitudes above -50 degrees and below 50 degrees. Within this domain, at each pixel, compute the linear correlation (scipy.stats.pearsonr) between the time series of precipitation of IMERG and ERA-Interim. Make a plot using imshow of the resulting 2D array of correlation coefficients over the domain (lat:-50 to 50,lon:0 to 360). Provide a paragraph that describes the resulting correlation coefficient map with an emphasis on explaining where the datasets match well and where they don't.\n",
    "\n",
    "* The ERA-Interim file can be found here: `/data/era-interim/era_interim_monthly_197901_201512_upscaled.nc`\n",
    "* The IMERG file can be found here: `/data/IMERG/GPM_3IMERGM.06_upscaled.nc`\n",
    "* Precipitation in the IMERG database is called `precipitation` while it is called `precip` in the ERA-Interim file\n",
    "* Note that the lat/lon axes are swapped in the IMERG file. After reading in the data from IMERG, use `np.swapaxes(data_imerg,1,2)` to swap the axes. Note that variable data_imerg here is the 3D array that you read in. It does not need to be named data_imerg."
   ]
  },
  {
   "cell_type": "code",
   "execution_count": null,
   "metadata": {},
   "outputs": [],
   "source": []
  }
 ],
 "metadata": {
  "kernelspec": {
   "display_name": "Python 3",
   "language": "python",
   "name": "python3"
  },
  "language_info": {
   "codemirror_mode": {
    "name": "ipython",
    "version": 3
   },
   "file_extension": ".py",
   "mimetype": "text/x-python",
   "name": "python",
   "nbconvert_exporter": "python",
   "pygments_lexer": "ipython3",
   "version": "3.7.3"
  }
 },
 "nbformat": 4,
 "nbformat_minor": 2
}

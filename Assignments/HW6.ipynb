{
 "cells": [
  {
   "cell_type": "markdown",
   "metadata": {},
   "source": [
    "# Assignment #6"
   ]
  },
  {
   "attachments": {},
   "cell_type": "markdown",
   "metadata": {},
   "source": [
    "# 1. K-means from scratch (30 points)\n",
    "\n",
    "Code up the K-means algorithm. To test your code, use both the two bivariate Gaussian distributions as well as the initial centroids defined below. After predicting the cluster to which each data point belongs, make a scatter plot of the predicted cluster for each data point. For consistency, set the random seed to 1 before sampling from the two bivariate Gaussian distributions.\n",
    "\n",
    "* Bivariate Gaussians\n",
    "$$\\mathbf{\\mu_1} = \\begin{bmatrix}\n",
    "1.0\\\\\n",
    "0.1\\\\\n",
    "\\end{bmatrix}$$\n",
    "\n",
    "$$\\mathbf{\\mu_2} = \\begin{bmatrix}\n",
    "-5.0\\\\\n",
    "2.0\\\\\n",
    "\\end{bmatrix}$$\n",
    "\n",
    "$$\\mathbf{\\Sigma_1} = \\mathbf{\\Sigma_2} = \\begin{bmatrix}\n",
    "1.0&0.2\\\\\n",
    "0.2&1.0\\\\\n",
    "\\end{bmatrix}$$\n",
    "\n",
    "* Initial centroids:\n",
    "$$\\mathbf{c_1} = \\begin{bmatrix}\n",
    "0.4\\\\\n",
    "0.3\\\\\n",
    "\\end{bmatrix}$$\n",
    "\n",
    "$$\\mathbf{c_2} = \\begin{bmatrix}\n",
    "0.1\\\\\n",
    "0.4\\\\\n",
    "\\end{bmatrix}$$"
   ]
  },
  {
   "cell_type": "code",
   "execution_count": null,
   "metadata": {},
   "outputs": [],
   "source": []
  },
  {
   "cell_type": "markdown",
   "metadata": {},
   "source": [
    "# 2. Find the optimal K  (50 pts)\n",
    "\n",
    "In this problem you wil find the minimum number of clusters ($k$) that is necessary to ensure the maps reproduced from the K-means centroid values fall within a pre-defined performance criteria. \n",
    "\n",
    "1. Subset and regrid the datasets below by extracting the bounding box minlat=39.0, minlon=-106.5, maxlat=41.0, maxlon=-104.5 and upscaling the data to a 0.01 arcdegree spatial resolution using -r average.\n",
    "\n",
    "    * **Annual mean precipitation (mm/year)** - */data/PRISM/PRISM_ppt_30yr_normal_800mM2_annual/PRISM_ppt_30yr_normal_800mM2_annual_bil.bil*\n",
    "    * **Annual mean temperature (C)** - */data/PRISM/PRISM_tmean_30yr_normal_800mM2_annual/PRISM_tmean_30yr_normal_800mM2_annual_bil.bil*\n",
    "    * **Elevation (m)** - */data/NED/NED.vrt ../Workspace/dem.tif*\n",
    "    * **Sand (%)** - */data/POLARIS/sand_0_5.vrt*\n",
    "    * **Soil porosity (%)** - */data/POLARIS/porosity_0_5.vrt*\n",
    "    * **Saturated hydraulic conductivity (cm/hr)** - */data/POLARIS/ksat_0_5.vrt*\n",
    "    * **Bare cover fraction (%)** - */data/USGS30m/bare2010/bare2010.vrt*\n",
    "    * **Tree cover fraction (%)** - */data/USGS30m/treecover2010/treecover2010.vrt*\n",
    "    \n",
    "    \n",
    "2. Construct an algorithm that computes the minimum number of clusters necessary to ensure that the maps reproduced using the K-means computed centroids all have a KGE $\\geq$ 0.7. Report the optimal number of clusters. To ensure the results are reproduceable, set the random seed to 1. Remember to normalize your data prior to clustering ($z = \\frac{x - min(x)}{max(x) - min(x)}$). Within K-means set the parameter n_init to 10.\n",
    "\n",
    "> The KGE is Kling Gupta Efficieny metric is defined as:\n",
    "\n",
    "$$\\text{KGE} = 1 - \\sqrt{(\\rho-1)^2 + (\\frac{\\sigma_{org}}{\\sigma_{sim}} - 1)^2 + (\\frac{\\mu_{org}}{\\mu_{sim}} - 1)^2}$$\n",
    "\n",
    "> Where $\\rho$ is the Pearson correlation between the original and simulated maps, $\\sigma_x$ is the standard deviation of a given map, and $\\mu_x$ is the arithmetic mean of a given map.\n",
    "\n",
    "3. Repeat part 2, except this time standardize your data instead of normalizing ($z = \\frac{x - \\mu_x}{\\sigma_x}$).\n",
    "\n",
    "4. Repeat part 3, except this time set n_init to 1. Explain why the optimal number of clusters is different from that in part 3."
   ]
  },
  {
   "cell_type": "code",
   "execution_count": null,
   "metadata": {},
   "outputs": [],
   "source": []
  },
  {
   "cell_type": "markdown",
   "metadata": {},
   "source": [
    "# 3. Choose the right clustering approach (20 points)\n",
    "\n",
    "The file `/data/HydroLakes/watermask_46.4_46.5_-96_-95.9.tif` is a map of lakes in the bounding box minlon = -96, maxlon = -95.9, minlat = 46.4, and maxlat = 46.5 at a 30 meter spatial resolution. All pixels that belong to a lake are assigned 1 while every pixel that is not part of a lake is set to 0. In this problem we will use cluster analysis to group together contiguous pixels to uniquely define all the lakes in the map. \n",
    "\n",
    "1. After reading in and preprocessing the data for use in cluster analysis, use the following cluster algorithms with the given associated parameters to cluster the data:\n",
    "\n",
    "\n",
    "    * Agglomerative Clustering with single linkage (n_clusters=25)\n",
    "    * DBSCAN (eps = 5, min_samples = 10)\n",
    "    * K-Means (n_clusters = 25)\n",
    "    * Gaussian Mixture Model (n_components = 25)\n",
    "\n",
    "\n",
    "2. Provide a scatter plot of the results of each algorithm. The color of each point on the scatter plot should be associated with a cluster. \n",
    "\n",
    "\n",
    "3. Discuss the results with an emphasis on explaining the strengths and deficiencies of each algorithm in the context of clustering the lakes. \n",
    "\n",
    "\n",
    "4. Having aseembled the clusters, compute and report the mean and standard deviation of the area of the 25 lakes. "
   ]
  },
  {
   "cell_type": "code",
   "execution_count": null,
   "metadata": {},
   "outputs": [],
   "source": []
  }
 ],
 "metadata": {
  "celltoolbar": "Slideshow",
  "kernelspec": {
   "display_name": "Python 3",
   "language": "python",
   "name": "python3"
  },
  "language_info": {
   "codemirror_mode": {
    "name": "ipython",
    "version": 3
   },
   "file_extension": ".py",
   "mimetype": "text/x-python",
   "name": "python",
   "nbconvert_exporter": "python",
   "pygments_lexer": "ipython3",
   "version": "3.7.3"
  }
 },
 "nbformat": 4,
 "nbformat_minor": 2
}

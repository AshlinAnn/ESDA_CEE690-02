{
 "cells": [
  {
   "cell_type": "markdown",
   "metadata": {},
   "source": [
    "# Assignment #2"
   ]
  },
  {
   "cell_type": "markdown",
   "metadata": {},
   "source": [
    "# 1. Numpy basics (10 points)"
   ]
  },
  {
   "cell_type": "markdown",
   "metadata": {},
   "source": [
    "**1.1** Import numpy as np into the Jupyter Notebook"
   ]
  },
  {
   "cell_type": "code",
   "execution_count": null,
   "metadata": {},
   "outputs": [],
   "source": []
  },
  {
   "cell_type": "markdown",
   "metadata": {},
   "source": [
    "**1.2** Print out the methods and variables associated with the module numpy. "
   ]
  },
  {
   "cell_type": "code",
   "execution_count": null,
   "metadata": {},
   "outputs": [],
   "source": []
  },
  {
   "cell_type": "markdown",
   "metadata": {},
   "source": [
    "## 2. Arrays (15 points)"
   ]
  },
  {
   "cell_type": "markdown",
   "metadata": {},
   "source": [
    "**2.1** Create an evenly spaced 1D array of latitude values starting at -90.0 degrees and ending at 90.0 degrees with a pixel size of 1.0 degree [Hint: Use np.linspace()]. "
   ]
  },
  {
   "cell_type": "code",
   "execution_count": null,
   "metadata": {},
   "outputs": [],
   "source": []
  },
  {
   "cell_type": "markdown",
   "metadata": {},
   "source": [
    "**2.2** Convert the following list of lists into a 2D numpy array"
   ]
  },
  {
   "cell_type": "code",
   "execution_count": 318,
   "metadata": {},
   "outputs": [],
   "source": [
    "data_list = [[3,4],[4,5]]"
   ]
  },
  {
   "cell_type": "markdown",
   "metadata": {},
   "source": [
    "**2.3** Stack the following 1D arrays vertically into a single 2D array."
   ]
  },
  {
   "cell_type": "code",
   "execution_count": 319,
   "metadata": {},
   "outputs": [],
   "source": [
    "A = np.array([1,1,1,1])\n",
    "B = np.array([2,2,2,2])"
   ]
  },
  {
   "cell_type": "markdown",
   "metadata": {},
   "source": [
    "**2.4** Compute the unique values of the following array. Note that simply writing them out is not sufficient."
   ]
  },
  {
   "cell_type": "code",
   "execution_count": 320,
   "metadata": {},
   "outputs": [],
   "source": [
    "np.random.seed(1)\n",
    "A = np.random.randint(1,10,10000)"
   ]
  },
  {
   "cell_type": "markdown",
   "metadata": {},
   "source": [
    "**2.5** Reshape the defined 1D array A into a 2D array B. The size of each dimension of B should be defined as the square root of the total size of A. Remember that the computed dimensions of B need to be integers."
   ]
  },
  {
   "cell_type": "code",
   "execution_count": 321,
   "metadata": {},
   "outputs": [],
   "source": [
    "A = np.arange(100)"
   ]
  },
  {
   "cell_type": "markdown",
   "metadata": {},
   "source": [
    "## 3. Mathematics  (15 points)"
   ]
  },
  {
   "cell_type": "markdown",
   "metadata": {},
   "source": [
    "**3.1** Create a function that uses a for loop to compute the sum of all the elements in the array A. Use %timeit to compute the time it takes to run the defined function. "
   ]
  },
  {
   "cell_type": "code",
   "execution_count": 322,
   "metadata": {},
   "outputs": [],
   "source": [
    "np.random.seed(1)\n",
    "A = np.random.randn(1000)"
   ]
  },
  {
   "cell_type": "markdown",
   "metadata": {},
   "source": [
    "**3.2** Now use the function np.sum() to compute the sum of the defined array A. Use %timeit to compute the time it takes to run the operation. Using the Markdown language in the additional cell below, compare the timing results with those from exercise **3.1**."
   ]
  },
  {
   "cell_type": "code",
   "execution_count": 323,
   "metadata": {},
   "outputs": [],
   "source": [
    "np.random.seed(1)\n",
    "A = np.random.randn(1000)"
   ]
  },
  {
   "cell_type": "markdown",
   "metadata": {},
   "source": []
  },
  {
   "cell_type": "markdown",
   "metadata": {},
   "source": [
    "**3.3** Compute the element-wise addition of the defined arrays A and B. The results should be assigned to a variable C. Then compute and print the mean, sum, standard deviation, maximum, minimum, and median of the resulting array. "
   ]
  },
  {
   "cell_type": "code",
   "execution_count": 324,
   "metadata": {},
   "outputs": [],
   "source": [
    "np.random.seed(1)\n",
    "A = np.random.randn(1000)\n",
    "B = np.random.randn(1000)"
   ]
  },
  {
   "cell_type": "markdown",
   "metadata": {},
   "source": [
    "**3.4** Compute the element-wise remainder after dividing the defined array B by A. "
   ]
  },
  {
   "cell_type": "code",
   "execution_count": 325,
   "metadata": {},
   "outputs": [],
   "source": [
    "np.random.seed(1)\n",
    "A = np.random.randint(1,10,10)\n",
    "B = np.random.randint(1,10,10)"
   ]
  },
  {
   "cell_type": "markdown",
   "metadata": {},
   "source": [
    "**3.5** Let $f = x/(1 + x^2) + ln(x) - cos(x)$. After creating an evenly spaced array $x$ between 1 and 11 with 101 elements, compute $f$. To finish, print the mean and standard deviation of the computed array f."
   ]
  },
  {
   "cell_type": "code",
   "execution_count": null,
   "metadata": {},
   "outputs": [],
   "source": []
  },
  {
   "cell_type": "markdown",
   "metadata": {},
   "source": [
    "## 4. Indexing and slicing  (15 points)"
   ]
  },
  {
   "cell_type": "markdown",
   "metadata": {},
   "source": [
    "**4.1** Replace the values of indices 5,1,2 in A with indices 8,8,2 in B. Note that replacing the values one by one (i.e., A[5] = B[8], A[1] = B[8]...) is not an adequate answer."
   ]
  },
  {
   "cell_type": "code",
   "execution_count": 326,
   "metadata": {},
   "outputs": [],
   "source": [
    "A = np.linspace(0,10,11)\n",
    "B = A[::-1]"
   ]
  },
  {
   "cell_type": "markdown",
   "metadata": {},
   "source": [
    "**4.2** Subsample the given 2D array A every 5 elements to create a vector b. Remember to flatten A to a 1D array before subsampling. "
   ]
  },
  {
   "cell_type": "code",
   "execution_count": 327,
   "metadata": {},
   "outputs": [],
   "source": [
    "A = np.arange(25).reshape(5,5)"
   ]
  },
  {
   "cell_type": "markdown",
   "metadata": {},
   "source": [
    "**4.3** Given the array `lons` defined below, use a Boolean mask to determine the pixels that are above or equal to -60$^o$ and below or equal to 60$^o$. Then compute and print the number of elements that satisfy this condition [Hint: sum the Boolean mask]. "
   ]
  },
  {
   "cell_type": "code",
   "execution_count": 328,
   "metadata": {},
   "outputs": [],
   "source": [
    "minlon = -180.0\n",
    "maxlon = 180.0\n",
    "lons = np.linspace(minlon,maxlon,(maxlon-minlon)/0.25+1)"
   ]
  },
  {
   "cell_type": "markdown",
   "metadata": {},
   "source": [
    "**4.4** Given the mask computed above, use the function np.where() to determine the indices of the array A where the mask is True. Print the index of the first element that meets that condition. "
   ]
  },
  {
   "cell_type": "code",
   "execution_count": null,
   "metadata": {},
   "outputs": [],
   "source": []
  },
  {
   "cell_type": "markdown",
   "metadata": {},
   "source": [
    "**4.5** Create a checkerboard 4x4 array (zeros and ones). Note that writing the checkerboard array out manually (i.e., A = np.array([[1,0,1,0],[0,1,0,1],...])) is not an adequate answer. You will want to first initialize a 4x4 array of zeros and then fill in with ones where necessary using slicing. "
   ]
  },
  {
   "cell_type": "code",
   "execution_count": null,
   "metadata": {},
   "outputs": [],
   "source": []
  },
  {
   "cell_type": "markdown",
   "metadata": {},
   "source": [
    "## 5. Dates (15 points)"
   ]
  },
  {
   "cell_type": "markdown",
   "metadata": {},
   "source": [
    "**5.1** Import the module datetime."
   ]
  },
  {
   "cell_type": "code",
   "execution_count": null,
   "metadata": {},
   "outputs": [],
   "source": []
  },
  {
   "cell_type": "markdown",
   "metadata": {},
   "source": [
    "**5.2** Construct an instance of the class datetime.datetime for January, 30th, 2019 at 00:35. Print the resulting variable `date`."
   ]
  },
  {
   "cell_type": "code",
   "execution_count": null,
   "metadata": {},
   "outputs": [],
   "source": []
  },
  {
   "cell_type": "markdown",
   "metadata": {},
   "source": [
    "**5.3** Assemble a list of dates consisting of all 3 hourly timestamps of March, 2019. Assume that the first time stamp is March 1st, 2019 at 00:00. Convert the resulting list into an array. Print the 40th element and the size of the resulting array."
   ]
  },
  {
   "cell_type": "code",
   "execution_count": null,
   "metadata": {},
   "outputs": [],
   "source": []
  },
  {
   "cell_type": "markdown",
   "metadata": {},
   "source": [
    "**5.4** Given the array `dates` defined above, use a Boolean mask to compute all dates that are after March 4th, 2019 at 3:00 am and before March 10th, 2019 at 6:00 pm. Create a new dates array by subsetting the original dates array with the mask. Print the resulting array."
   ]
  },
  {
   "cell_type": "code",
   "execution_count": null,
   "metadata": {},
   "outputs": [],
   "source": []
  },
  {
   "cell_type": "markdown",
   "metadata": {},
   "source": [
    "## 6. Distance between two points on Earth (15 points)"
   ]
  },
  {
   "cell_type": "markdown",
   "metadata": {},
   "source": [
    "The central angle, $\\Delta \\sigma$, between two different points on the Earth is given by:\n",
    "\n",
    "$\\Delta \\sigma  = \\arccos(\\sin\\phi_1\\sin\\phi_2 + \\cos\\phi_1\\cos\\phi_2\\cos(\\lambda_2 - \\lambda_1))$\n",
    "\n",
    "where $\\lambda_1$ and $\\lambda_2$ are the longitudes and $\\phi_1$ and $\\phi_2$ are the latitudes in radians of points 1 and 2.\n",
    "\n",
    "The distance between the two points in km can then be computed via the arc length by assuming that $R_e = 6371$ km:\n",
    "\n",
    "$d = R_e\\Delta \\sigma$"
   ]
  },
  {
   "cell_type": "markdown",
   "metadata": {},
   "source": [
    "**6.1** Create a function named `compute_distance` that computes the arc length between two points on Earth in km. The function input parameters should be lat1, lon1, lat2, and lon2. Remember that the latitude and longitudes values need to be in radians."
   ]
  },
  {
   "cell_type": "code",
   "execution_count": null,
   "metadata": {},
   "outputs": [],
   "source": []
  },
  {
   "cell_type": "markdown",
   "metadata": {},
   "source": [
    "**6.2** Use the function defined above to compute the distance between Durham, NC and Chicago, IL. The coordinates of Durham, NC are 35.9940$^o$ N and 78.8986$^o$ W. The coordinates of Chicago, IL are 41.8781$^o$ N and 87.6298$^o$ W. Print the computed distance."
   ]
  },
  {
   "cell_type": "code",
   "execution_count": null,
   "metadata": {},
   "outputs": [],
   "source": []
  },
  {
   "cell_type": "markdown",
   "metadata": {},
   "source": [
    "**6.3** Create a class called point that is initialized using two variables `lat` and `lon`. Then add the `compute_distance` function defined previously as a method. [Hint: See the example of creating and using classes shown in Lecture 3]"
   ]
  },
  {
   "cell_type": "code",
   "execution_count": null,
   "metadata": {},
   "outputs": [],
   "source": []
  },
  {
   "cell_type": "markdown",
   "metadata": {},
   "source": [
    "**6.4** Instantiate the class `point` for Durham using the lat and lon values defined in **6.2**."
   ]
  },
  {
   "cell_type": "code",
   "execution_count": null,
   "metadata": {},
   "outputs": [],
   "source": []
  },
  {
   "cell_type": "markdown",
   "metadata": {},
   "source": [
    "**6.5** Compute the distance between Durham and Chicago using the object defined in the previous exercise. Note that this will give the same result as **6.2**, however, it will involve using classes instead of a single function."
   ]
  },
  {
   "cell_type": "code",
   "execution_count": null,
   "metadata": {},
   "outputs": [],
   "source": []
  },
  {
   "cell_type": "markdown",
   "metadata": {},
   "source": [
    "## 7. Parsing filepaths (15 points)"
   ]
  },
  {
   "cell_type": "markdown",
   "metadata": {},
   "source": [
    "The directory `/shared_space/data/NED` contains the entire database of the National Elevation Dataset (NED) which provides maps of elevation over the entire Contiguous United States at a 1 arcsec (~30 meter) spatial resolution. Given the large size of the data, the entire dataset is split into 1$^o$ x 1$^o$ arcdegree boxes. Each file in the directory looks similar to \"dem_lat3637_lon-105-104.tif\". This file contains the elevation information for the region between the latitudes of 36.0 and 37.0 and the longitudes of -105.0 and -104.0. "
   ]
  },
  {
   "cell_type": "markdown",
   "metadata": {},
   "source": [
    "**7.1** Import the module glob"
   ]
  },
  {
   "cell_type": "code",
   "execution_count": null,
   "metadata": {},
   "outputs": [],
   "source": []
  },
  {
   "cell_type": "markdown",
   "metadata": {},
   "source": [
    "**7.2** Use the function glob.glob() to make a list of all the files that end with .tif in the directory defined above. Print the resulting list. [Hint: Use *.tif to only extract the geotiff files]"
   ]
  },
  {
   "cell_type": "code",
   "execution_count": null,
   "metadata": {},
   "outputs": [],
   "source": []
  },
  {
   "cell_type": "markdown",
   "metadata": {},
   "source": [
    "**7.3** Print the number of files in the computed list."
   ]
  },
  {
   "cell_type": "code",
   "execution_count": null,
   "metadata": {},
   "outputs": [],
   "source": []
  },
  {
   "cell_type": "markdown",
   "metadata": {},
   "source": [
    "**7.4** Subset the previously computed list to extract only files that fall within the bounding box of minlat = 30.0, maxlat = 35.0, minlon = -85.0, and maxlon = -80.0. Print the resulting list and the number of elements in the list. [Hint: You will need to use a for loop, the split() function of strings, slicing of strings, and logical operators to complete this exercise]."
   ]
  },
  {
   "cell_type": "code",
   "execution_count": null,
   "metadata": {},
   "outputs": [],
   "source": []
  }
 ],
 "metadata": {
  "kernelspec": {
   "display_name": "Python 3",
   "language": "python",
   "name": "python3"
  },
  "language_info": {
   "codemirror_mode": {
    "name": "ipython",
    "version": 3
   },
   "file_extension": ".py",
   "mimetype": "text/x-python",
   "name": "python",
   "nbconvert_exporter": "python",
   "pygments_lexer": "ipython3",
   "version": "3.7.3"
  }
 },
 "nbformat": 4,
 "nbformat_minor": 2
}

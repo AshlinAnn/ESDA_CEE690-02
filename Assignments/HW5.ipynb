{
 "cells": [
  {
   "cell_type": "markdown",
   "metadata": {},
   "source": [
    "# Assignment #5"
   ]
  },
  {
   "cell_type": "markdown",
   "metadata": {},
   "source": [
    "# 1. Distance between two points (25 points)"
   ]
  },
  {
   "cell_type": "markdown",
   "metadata": {},
   "source": [
    "In homework 2, we found using the spherical law of cosines, that the arc length between Durham and Chicago is 998.233 km. If we first project the geographical coordinates of the two cities onto a 2d plane, we should, in principle, be able to use the euclidean distance to calculate the distance between the two cities. Using this approach, calculate the distance between Durham and Chicago using the following three map projections. Provide a one paragraph explanation of how the computed distances differ.\n",
    "\n",
    "* Oblique Azimuthal equidistant\n",
    "* Mercator\n",
    "* Cylindrical Equal Area\n",
    "\n",
    "Items to keep in mind:\n",
    "* Only Numpy can be used for this problem. The use of other geospatial software or libraries will not be accepted.\n",
    "* The forward transformations for the three projections can be found in the book \"Map Projections--A Working Manual\" which is included in the folder \"Other\" in the GitHub repository under the filename \"Snyder1987.pdf\".\n",
    "* The geographic coordinates of Durham, NC are 35.9940$^o$ N and 78.8986$^o$ W. The coordinates of Chicago, IL are 41.8781$^o$ N and 87.6298$^o$ W.\n"
   ]
  },
  {
   "cell_type": "code",
   "execution_count": null,
   "metadata": {},
   "outputs": [],
   "source": []
  },
  {
   "cell_type": "markdown",
   "metadata": {},
   "source": [
    "# 2. Calculating the correct spatial mean (25 pts)"
   ]
  },
  {
   "cell_type": "markdown",
   "metadata": {},
   "source": [
    "A simple spatial mean of a regular lat/long grid (Plate Carree) can lead to large discrepancies in the estimated spatial mean. To assess this impact, we are going to use the variable `t2m` in the annual ERA-Interim database (`/data/era-interim/era_interim_monthly_197901_201512_upscaled.nc_ann`). Start by assembling an array of actual area per pixel and then compute for each year the area weighted mean. Then compare the resulting time series to that resulting from using the equally weighted spatial mean (i.e., naive approach). Provide an explanation of your results."
   ]
  },
  {
   "cell_type": "code",
   "execution_count": 102,
   "metadata": {},
   "outputs": [],
   "source": []
  },
  {
   "cell_type": "markdown",
   "metadata": {},
   "source": [
    "# 3. Reprojecting a reprojection (25 pts)\n",
    "\n",
    "Extract the bounding box defined below from the NED elevation dataset ('/data/NED/NED.vrt') at a 0.01 arcdegree spatial resolution to a file named \"dem_subset.tif\". Then reproject the resulting file to a global Mollweide projection (\"+proj=moll +lon_0=0 +x_0=0 +y_0=0 +datum=WGS84 +units=m +no_defs\") at a 2000 meter spatial resolution; name this file \"dem_subset_mollweide.tif\". Then reproject this resulting file back to the map projection of \"dem_subset.tif\"; name this file \"dem_subset_reproduced.tif\". The geospatial metadata of \"dem_subset.tif\" and \"dem_subset_reproduced.tif\" should be identical. Read both \"dem_subset.tif\" and \"dem_subset_reproduced.tif\" into Python and compare the two maps. To analyze the differences, plot the difference between the two maps and compute the RMSE and absolute BIAS between the two. If there any differences, explain the reason for the differences. Explain what you learn about the danger of reprojecting data too many times. If we are forced to reproject, what steps could be taken to minimize differences?\n",
    "\n",
    "Bounding box coordinates:\n",
    "\n",
    "* minlon = -107.5\n",
    "* maxlon = -103.5\n",
    "* minlat = 38.25\n",
    "* maxlat = 40.25\n",
    "\n",
    "Things to keep in mind:\n",
    "\n",
    "* Be careful with the initial subset of the NED data. If not done correctly, you will crash your Docker container. Make sure that you are appropriately specifying the bounding box and the desired spatial resolution. I recommend starting off with a smaller region to become familiar with using `gdalwarp` first. \n",
    "* For all subset and reprojection operations, use the nearest neighbor interpolation scheme (`-r nearest`)"
   ]
  },
  {
   "cell_type": "code",
   "execution_count": null,
   "metadata": {},
   "outputs": [],
   "source": []
  },
  {
   "cell_type": "markdown",
   "metadata": {},
   "source": [
    "# 4. Rotating globe + precipitation (25 pts)\n",
    "\n",
    "Following the example of rotating globe that was shown in Lecture 9, produce a rotating globe that shows time varying maps of precipitation on the globe. You will want to use precipitation from `/data/era-interim/era_interim_monthly_197901_201512_upscaled.nc_ann`. The variable name is `precip`. Feel free to use whatever frequency of rotation of the globe that you wish. "
   ]
  },
  {
   "cell_type": "code",
   "execution_count": null,
   "metadata": {},
   "outputs": [],
   "source": []
  }
 ],
 "metadata": {
  "celltoolbar": "Slideshow",
  "kernelspec": {
   "display_name": "Python 3",
   "language": "python",
   "name": "python3"
  },
  "language_info": {
   "codemirror_mode": {
    "name": "ipython",
    "version": 3
   },
   "file_extension": ".py",
   "mimetype": "text/x-python",
   "name": "python",
   "nbconvert_exporter": "python",
   "pygments_lexer": "ipython3",
   "version": "3.7.3"
  }
 },
 "nbformat": 4,
 "nbformat_minor": 2
}
